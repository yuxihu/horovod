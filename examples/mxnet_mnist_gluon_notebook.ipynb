{
 "cells": [
  {
   "cell_type": "markdown",
   "metadata": {},
   "source": [
    "Let's see how we can build and train a hand-written digit classifier on the MNIST dataset using MXNet Gluon API with Horovod. We made necessary modifications on this tutorial (https://mxnet.incubator.apache.org/versions/master/tutorials/gluon/mnist.html) to fit into Horovod:\n",
    "\n",
    "### 1. Import all required packages and set up training"
   ]
  },
  {
   "cell_type": "code",
   "execution_count": null,
   "metadata": {},
   "outputs": [],
   "source": [
    "import logging\n",
    "import time\n",
    "\n",
    "import horovod.mxnet as hvd\n",
    "import mxnet as mx\n",
    "from mxnet import autograd, gluon, nd\n",
    "\n",
    "\n",
    "data_dir = '/home/ubuntu/mnist/data'\n",
    "batch_size = 64\n",
    "dtype = 'float32'\n",
    "epochs = 5\n",
    "\n",
    "logging.basicConfig(level=logging.INFO)"
   ]
  },
  {
   "cell_type": "markdown",
   "metadata": {},
   "source": [
    "### 2. Initialize Horovod"
   ]
  },
  {
   "cell_type": "code",
   "execution_count": null,
   "metadata": {},
   "outputs": [],
   "source": [
    "hvd.init()"
   ]
  },
  {
   "cell_type": "markdown",
   "metadata": {},
   "source": [
    "### 3. Set context by pinning GPU to local rank"
   ]
  },
  {
   "cell_type": "code",
   "execution_count": null,
   "metadata": {},
   "outputs": [],
   "source": [
    "context = mx.gpu(hvd.local_rank())"
   ]
  },
  {
   "cell_type": "markdown",
   "metadata": {},
   "source": [
    "### 4. Load MNIST dataset"
   ]
  },
  {
   "cell_type": "code",
   "execution_count": null,
   "metadata": {},
   "outputs": [],
   "source": [
    "def get_mnist_iterator():\n",
    "    def batch_fn(batch, ctx):\n",
    "        data = gluon.utils.split_and_load(batch.data[0], ctx_list=ctx,\n",
    "                                          batch_axis=0)\n",
    "        label = gluon.utils.split_and_load(batch.label[0], ctx_list=ctx,\n",
    "                                           batch_axis=0)\n",
    "        return data, label\n",
    "    \n",
    "    input_shape = (1, 28, 28)\n",
    "\n",
    "    # Split the training data for each worker\n",
    "    train_iter = mx.io.MNISTIter(\n",
    "        image=\"%s/train-images-idx3-ubyte\" % data_dir,\n",
    "        label=\"%s/train-labels-idx1-ubyte\" % data_dir,\n",
    "        input_shape=input_shape,\n",
    "        batch_size=batch_size,\n",
    "        shuffle=True,\n",
    "        flat=False,\n",
    "        num_parts=hvd.size(),\n",
    "        part_index=hvd.rank()\n",
    "    )\n",
    "\n",
    "    # Keep each worker to use full validation data to make it easy to monitor results\n",
    "    val_iter = mx.io.MNISTIter(\n",
    "        image=\"%s/t10k-images-idx3-ubyte\" % data_dir,\n",
    "        label=\"%s/t10k-labels-idx1-ubyte\" % data_dir,\n",
    "        input_shape=input_shape,\n",
    "        batch_size=batch_size,\n",
    "        flat=False\n",
    "    )\n",
    "\n",
    "    return train_iter, val_iter, batch_fn\n",
    "\n",
    "train_iter, val_iter, batch_fn = get_mnist_iterator()"
   ]
  },
  {
   "cell_type": "markdown",
   "metadata": {},
   "source": [
    "### 5. Define a Convolutional Nerual Network"
   ]
  },
  {
   "cell_type": "code",
   "execution_count": null,
   "metadata": {},
   "outputs": [],
   "source": [
    "# Use hybrid blocks for better performance\n",
    "net = gluon.nn.HybridSequential()\n",
    "with net.name_scope():\n",
    "    net.add(gluon.nn.Conv2D(channels=20, kernel_size=5, activation='relu'))\n",
    "    net.add(gluon.nn.MaxPool2D(pool_size=2, strides=2))\n",
    "    net.add(gluon.nn.Conv2D(channels=50, kernel_size=5, activation='relu'))\n",
    "    net.add(gluon.nn.MaxPool2D(pool_size=2, strides=2))\n",
    "    # The Flatten layer collapses all axis, except the first one, into one axis.\n",
    "    net.add(gluon.nn.Flatten())\n",
    "    net.add(gluon.nn.Dense(512, activation=\"relu\"))\n",
    "    net.add(gluon.nn.Dense(10))\n",
    "net.cast(dtype)\n",
    "net.hybridize()"
   ]
  },
  {
   "cell_type": "markdown",
   "metadata": {},
   "source": [
    "### 6. Initializer parameters"
   ]
  },
  {
   "cell_type": "code",
   "execution_count": null,
   "metadata": {},
   "outputs": [],
   "source": [
    "initializer = mx.init.Xavier(rnd_type='gaussian', factor_type=\"in\", magnitude=2)\n",
    "net.initialize(initializer, ctx=context)"
   ]
  },
  {
   "cell_type": "markdown",
   "metadata": {},
   "source": [
    "### 7. Horovod: fetch and broadcast parameters"
   ]
  },
  {
   "cell_type": "code",
   "execution_count": null,
   "metadata": {},
   "outputs": [],
   "source": [
    "params = net.collect_params()\n",
    "if params is not None:\n",
    "    hvd.broadcast_parameters(params, root_rank=0)"
   ]
  },
  {
   "cell_type": "markdown",
   "metadata": {},
   "source": [
    "### 8. Create SGD optimizer"
   ]
  },
  {
   "cell_type": "code",
   "execution_count": null,
   "metadata": {},
   "outputs": [],
   "source": [
    "optimizer_params = {'momentum': 0.9,\n",
    "                    'learning_rate': 0.025 * hvd.size(),\n",
    "                    'rescale_grad': 1.0 / batch_size}\n",
    "if dtype == 'float16':\n",
    "    optimizer_params['multi_precision'] = True\n",
    "opt = mx.optimizer.create('sgd', **optimizer_params)"
   ]
  },
  {
   "cell_type": "markdown",
   "metadata": {},
   "source": [
    "### 9. Horovod: wrap optimizer with DistributedOptimizer"
   ]
  },
  {
   "cell_type": "code",
   "execution_count": null,
   "metadata": {},
   "outputs": [],
   "source": [
    "opt = hvd.DistributedOptimizer(opt)"
   ]
  },
  {
   "cell_type": "markdown",
   "metadata": {},
   "source": [
    "### 10. Create trainer and loss function"
   ]
  },
  {
   "cell_type": "code",
   "execution_count": null,
   "metadata": {},
   "outputs": [],
   "source": [
    "trainer = gluon.Trainer(params, opt, kvstore=None)\n",
    "loss_fn = gluon.loss.SoftmaxCrossEntropyLoss()"
   ]
  },
  {
   "cell_type": "markdown",
   "metadata": {},
   "source": [
    "### 11. Define a function to evaluate accuracy"
   ]
  },
  {
   "cell_type": "code",
   "execution_count": null,
   "metadata": {},
   "outputs": [],
   "source": [
    "def evaluate_accuracy(net, data_iter, context):\n",
    "    data_iter.reset()\n",
    "\n",
    "    acc = mx.metric.Accuracy()\n",
    "    for _, batch in enumerate(data_iter):\n",
    "        data, label = batch_fn(batch, [context])\n",
    "        outputs = [net(x.astype(dtype, copy=False)) for x in data]\n",
    "        preds = [nd.argmax(output, axis=1) for output in outputs]\n",
    "        acc.update(label, preds)\n",
    "    return acc.get()[1]"
   ]
  },
  {
   "cell_type": "markdown",
   "metadata": {},
   "source": [
    "### 12. Train the CNN"
   ]
  },
  {
   "cell_type": "code",
   "execution_count": null,
   "metadata": {},
   "outputs": [],
   "source": [
    "for epoch in range(epochs):\n",
    "    tic = time.time()\n",
    "\n",
    "    train_iter.reset()\n",
    "    for nbatch, batch in enumerate(train_iter, start=1):\n",
    "        data, label = batch_fn(batch, [context])\n",
    "        with autograd.record(): # Start recording the derivatives\n",
    "            outputs = [net(x.astype(dtype, copy=False)) for x in data] # the forward iteration\n",
    "            loss = [loss_fn(yhat, y) for yhat, y in zip(outputs, label)] # compute the loss\n",
    "        for l in loss:\n",
    "            l.backward() # backpropgation\n",
    "        trainer.step(batch_size)\n",
    "\n",
    "    train_acc = evaluate_accuracy(net, train_iter, context)\n",
    "    if hvd.rank() == 0:\n",
    "        elapsed = time.time() - tic\n",
    "        speed = nbatch * batch_size * hvd.size() / elapsed\n",
    "        logging.info('Epoch[%d]\\tSpeed=%.2f samples/s\\tTime cost=%f', epoch, speed, elapsed)\n",
    "\n",
    "    # Evaluate model accuracy\n",
    "    val_acc = evaluate_accuracy(net, val_iter, context)\n",
    "    logging.info('Epoch[%d]\\tTrain-accuracy=%f\\tValidation-accuracy=%f', epoch, train_acc, val_acc)\n",
    "\n",
    "    if hvd.rank() == 0 and epoch == epochs - 1:\n",
    "        assert val_acc > 0.96, \"Achieved accuracy (%f) is lower than expected (0.96)\" % val_acc\n",
    "        logging.info(\"Done training with top-1 accuracy %f\", val_acc)"
   ]
  }
 ],
 "metadata": {
  "kernelspec": {
   "display_name": "Python 3",
   "language": "python",
   "name": "python3"
  },
  "language_info": {
   "codemirror_mode": {
    "name": "ipython",
    "version": 3
   },
   "file_extension": ".py",
   "mimetype": "text/x-python",
   "name": "python",
   "nbconvert_exporter": "python",
   "pygments_lexer": "ipython3",
   "version": "3.5.2"
  }
 },
 "nbformat": 4,
 "nbformat_minor": 2
}
